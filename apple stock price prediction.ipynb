{
 "cells": [
  {
   "cell_type": "code",
   "execution_count": 20,
   "metadata": {},
   "outputs": [],
   "source": [
    "### Data Collection\n",
    "import pandas_datareader as pdr\n",
    "key=\"################################\""
   ]
  },
  {
   "cell_type": "code",
   "execution_count": 21,
   "metadata": {},
   "outputs": [],
   "source": [
    "df = pdr.get_data_tiingo('AAPL', api_key=key)"
   ]
  },
  {
   "cell_type": "code",
   "execution_count": 22,
   "metadata": {},
   "outputs": [],
   "source": [
    "df.to_csv('AAPL.csv')"
   ]
  },
  {
   "cell_type": "code",
   "execution_count": 23,
   "metadata": {},
   "outputs": [],
   "source": [
    "import pandas as pd"
   ]
  },
  {
   "cell_type": "code",
   "execution_count": 24,
   "metadata": {},
   "outputs": [],
   "source": [
    "df=pd.read_csv('AAPL.csv')"
   ]
  },
  {
   "cell_type": "code",
   "execution_count": 25,
   "metadata": {},
   "outputs": [
    {
     "data": {
      "text/html": [
       "<div>\n",
       "<style scoped>\n",
       "    .dataframe tbody tr th:only-of-type {\n",
       "        vertical-align: middle;\n",
       "    }\n",
       "\n",
       "    .dataframe tbody tr th {\n",
       "        vertical-align: top;\n",
       "    }\n",
       "\n",
       "    .dataframe thead th {\n",
       "        text-align: right;\n",
       "    }\n",
       "</style>\n",
       "<table border=\"1\" class=\"dataframe\">\n",
       "  <thead>\n",
       "    <tr style=\"text-align: right;\">\n",
       "      <th></th>\n",
       "      <th>symbol</th>\n",
       "      <th>date</th>\n",
       "      <th>close</th>\n",
       "      <th>high</th>\n",
       "      <th>low</th>\n",
       "      <th>open</th>\n",
       "      <th>volume</th>\n",
       "      <th>adjClose</th>\n",
       "      <th>adjHigh</th>\n",
       "      <th>adjLow</th>\n",
       "      <th>adjOpen</th>\n",
       "      <th>adjVolume</th>\n",
       "      <th>divCash</th>\n",
       "      <th>splitFactor</th>\n",
       "    </tr>\n",
       "  </thead>\n",
       "  <tbody>\n",
       "    <tr>\n",
       "      <th>0</th>\n",
       "      <td>AAPL</td>\n",
       "      <td>2016-01-25 00:00:00+00:00</td>\n",
       "      <td>99.44</td>\n",
       "      <td>101.5300</td>\n",
       "      <td>99.21</td>\n",
       "      <td>101.52</td>\n",
       "      <td>51794525</td>\n",
       "      <td>23.029169</td>\n",
       "      <td>23.513189</td>\n",
       "      <td>22.975903</td>\n",
       "      <td>23.510873</td>\n",
       "      <td>207178100</td>\n",
       "      <td>0.0</td>\n",
       "      <td>1.0</td>\n",
       "    </tr>\n",
       "    <tr>\n",
       "      <th>1</th>\n",
       "      <td>AAPL</td>\n",
       "      <td>2016-01-26 00:00:00+00:00</td>\n",
       "      <td>99.99</td>\n",
       "      <td>100.8800</td>\n",
       "      <td>98.07</td>\n",
       "      <td>99.93</td>\n",
       "      <td>75077002</td>\n",
       "      <td>23.156542</td>\n",
       "      <td>23.362656</td>\n",
       "      <td>22.711892</td>\n",
       "      <td>23.142647</td>\n",
       "      <td>300308008</td>\n",
       "      <td>0.0</td>\n",
       "      <td>1.0</td>\n",
       "    </tr>\n",
       "    <tr>\n",
       "      <th>2</th>\n",
       "      <td>AAPL</td>\n",
       "      <td>2016-01-27 00:00:00+00:00</td>\n",
       "      <td>93.42</td>\n",
       "      <td>96.6289</td>\n",
       "      <td>93.34</td>\n",
       "      <td>96.04</td>\n",
       "      <td>133369674</td>\n",
       "      <td>21.635005</td>\n",
       "      <td>22.378150</td>\n",
       "      <td>21.616478</td>\n",
       "      <td>22.241767</td>\n",
       "      <td>533478696</td>\n",
       "      <td>0.0</td>\n",
       "      <td>1.0</td>\n",
       "    </tr>\n",
       "    <tr>\n",
       "      <th>3</th>\n",
       "      <td>AAPL</td>\n",
       "      <td>2016-01-28 00:00:00+00:00</td>\n",
       "      <td>94.09</td>\n",
       "      <td>94.5200</td>\n",
       "      <td>92.39</td>\n",
       "      <td>93.79</td>\n",
       "      <td>55678825</td>\n",
       "      <td>21.790170</td>\n",
       "      <td>21.889753</td>\n",
       "      <td>21.396469</td>\n",
       "      <td>21.720693</td>\n",
       "      <td>222715300</td>\n",
       "      <td>0.0</td>\n",
       "      <td>1.0</td>\n",
       "    </tr>\n",
       "    <tr>\n",
       "      <th>4</th>\n",
       "      <td>AAPL</td>\n",
       "      <td>2016-01-29 00:00:00+00:00</td>\n",
       "      <td>97.34</td>\n",
       "      <td>97.3400</td>\n",
       "      <td>94.35</td>\n",
       "      <td>94.79</td>\n",
       "      <td>64416504</td>\n",
       "      <td>22.542833</td>\n",
       "      <td>22.542833</td>\n",
       "      <td>21.850383</td>\n",
       "      <td>21.952282</td>\n",
       "      <td>257666016</td>\n",
       "      <td>0.0</td>\n",
       "      <td>1.0</td>\n",
       "    </tr>\n",
       "  </tbody>\n",
       "</table>\n",
       "</div>"
      ],
      "text/plain": [
       "  symbol                       date  close      high    low    open  \\\n",
       "0   AAPL  2016-01-25 00:00:00+00:00  99.44  101.5300  99.21  101.52   \n",
       "1   AAPL  2016-01-26 00:00:00+00:00  99.99  100.8800  98.07   99.93   \n",
       "2   AAPL  2016-01-27 00:00:00+00:00  93.42   96.6289  93.34   96.04   \n",
       "3   AAPL  2016-01-28 00:00:00+00:00  94.09   94.5200  92.39   93.79   \n",
       "4   AAPL  2016-01-29 00:00:00+00:00  97.34   97.3400  94.35   94.79   \n",
       "\n",
       "      volume   adjClose    adjHigh     adjLow    adjOpen  adjVolume  divCash  \\\n",
       "0   51794525  23.029169  23.513189  22.975903  23.510873  207178100      0.0   \n",
       "1   75077002  23.156542  23.362656  22.711892  23.142647  300308008      0.0   \n",
       "2  133369674  21.635005  22.378150  21.616478  22.241767  533478696      0.0   \n",
       "3   55678825  21.790170  21.889753  21.396469  21.720693  222715300      0.0   \n",
       "4   64416504  22.542833  22.542833  21.850383  21.952282  257666016      0.0   \n",
       "\n",
       "   splitFactor  \n",
       "0          1.0  \n",
       "1          1.0  \n",
       "2          1.0  \n",
       "3          1.0  \n",
       "4          1.0  "
      ]
     },
     "execution_count": 25,
     "metadata": {},
     "output_type": "execute_result"
    }
   ],
   "source": [
    "df.head()"
   ]
  },
  {
   "cell_type": "code",
   "execution_count": 26,
   "metadata": {},
   "outputs": [
    {
     "data": {
      "text/html": [
       "<div>\n",
       "<style scoped>\n",
       "    .dataframe tbody tr th:only-of-type {\n",
       "        vertical-align: middle;\n",
       "    }\n",
       "\n",
       "    .dataframe tbody tr th {\n",
       "        vertical-align: top;\n",
       "    }\n",
       "\n",
       "    .dataframe thead th {\n",
       "        text-align: right;\n",
       "    }\n",
       "</style>\n",
       "<table border=\"1\" class=\"dataframe\">\n",
       "  <thead>\n",
       "    <tr style=\"text-align: right;\">\n",
       "      <th></th>\n",
       "      <th>symbol</th>\n",
       "      <th>date</th>\n",
       "      <th>close</th>\n",
       "      <th>high</th>\n",
       "      <th>low</th>\n",
       "      <th>open</th>\n",
       "      <th>volume</th>\n",
       "      <th>adjClose</th>\n",
       "      <th>adjHigh</th>\n",
       "      <th>adjLow</th>\n",
       "      <th>adjOpen</th>\n",
       "      <th>adjVolume</th>\n",
       "      <th>divCash</th>\n",
       "      <th>splitFactor</th>\n",
       "    </tr>\n",
       "  </thead>\n",
       "  <tbody>\n",
       "    <tr>\n",
       "      <th>1253</th>\n",
       "      <td>AAPL</td>\n",
       "      <td>2021-01-14 00:00:00+00:00</td>\n",
       "      <td>128.91</td>\n",
       "      <td>131.0000</td>\n",
       "      <td>128.760</td>\n",
       "      <td>130.80</td>\n",
       "      <td>90221755</td>\n",
       "      <td>128.91</td>\n",
       "      <td>131.0000</td>\n",
       "      <td>128.760</td>\n",
       "      <td>130.80</td>\n",
       "      <td>90221755</td>\n",
       "      <td>0.0</td>\n",
       "      <td>1.0</td>\n",
       "    </tr>\n",
       "    <tr>\n",
       "      <th>1254</th>\n",
       "      <td>AAPL</td>\n",
       "      <td>2021-01-15 00:00:00+00:00</td>\n",
       "      <td>127.14</td>\n",
       "      <td>130.2242</td>\n",
       "      <td>127.000</td>\n",
       "      <td>128.78</td>\n",
       "      <td>111598531</td>\n",
       "      <td>127.14</td>\n",
       "      <td>130.2242</td>\n",
       "      <td>127.000</td>\n",
       "      <td>128.78</td>\n",
       "      <td>111598531</td>\n",
       "      <td>0.0</td>\n",
       "      <td>1.0</td>\n",
       "    </tr>\n",
       "    <tr>\n",
       "      <th>1255</th>\n",
       "      <td>AAPL</td>\n",
       "      <td>2021-01-19 00:00:00+00:00</td>\n",
       "      <td>127.83</td>\n",
       "      <td>128.7100</td>\n",
       "      <td>126.938</td>\n",
       "      <td>127.78</td>\n",
       "      <td>90757329</td>\n",
       "      <td>127.83</td>\n",
       "      <td>128.7100</td>\n",
       "      <td>126.938</td>\n",
       "      <td>127.78</td>\n",
       "      <td>90757329</td>\n",
       "      <td>0.0</td>\n",
       "      <td>1.0</td>\n",
       "    </tr>\n",
       "    <tr>\n",
       "      <th>1256</th>\n",
       "      <td>AAPL</td>\n",
       "      <td>2021-01-20 00:00:00+00:00</td>\n",
       "      <td>132.03</td>\n",
       "      <td>132.4900</td>\n",
       "      <td>128.550</td>\n",
       "      <td>128.66</td>\n",
       "      <td>104319489</td>\n",
       "      <td>132.03</td>\n",
       "      <td>132.4900</td>\n",
       "      <td>128.550</td>\n",
       "      <td>128.66</td>\n",
       "      <td>104319489</td>\n",
       "      <td>0.0</td>\n",
       "      <td>1.0</td>\n",
       "    </tr>\n",
       "    <tr>\n",
       "      <th>1257</th>\n",
       "      <td>AAPL</td>\n",
       "      <td>2021-01-21 00:00:00+00:00</td>\n",
       "      <td>136.87</td>\n",
       "      <td>139.6700</td>\n",
       "      <td>133.590</td>\n",
       "      <td>133.80</td>\n",
       "      <td>120529544</td>\n",
       "      <td>136.87</td>\n",
       "      <td>139.6700</td>\n",
       "      <td>133.590</td>\n",
       "      <td>133.80</td>\n",
       "      <td>120529544</td>\n",
       "      <td>0.0</td>\n",
       "      <td>1.0</td>\n",
       "    </tr>\n",
       "  </tbody>\n",
       "</table>\n",
       "</div>"
      ],
      "text/plain": [
       "     symbol                       date   close      high      low    open  \\\n",
       "1253   AAPL  2021-01-14 00:00:00+00:00  128.91  131.0000  128.760  130.80   \n",
       "1254   AAPL  2021-01-15 00:00:00+00:00  127.14  130.2242  127.000  128.78   \n",
       "1255   AAPL  2021-01-19 00:00:00+00:00  127.83  128.7100  126.938  127.78   \n",
       "1256   AAPL  2021-01-20 00:00:00+00:00  132.03  132.4900  128.550  128.66   \n",
       "1257   AAPL  2021-01-21 00:00:00+00:00  136.87  139.6700  133.590  133.80   \n",
       "\n",
       "         volume  adjClose   adjHigh   adjLow  adjOpen  adjVolume  divCash  \\\n",
       "1253   90221755    128.91  131.0000  128.760   130.80   90221755      0.0   \n",
       "1254  111598531    127.14  130.2242  127.000   128.78  111598531      0.0   \n",
       "1255   90757329    127.83  128.7100  126.938   127.78   90757329      0.0   \n",
       "1256  104319489    132.03  132.4900  128.550   128.66  104319489      0.0   \n",
       "1257  120529544    136.87  139.6700  133.590   133.80  120529544      0.0   \n",
       "\n",
       "      splitFactor  \n",
       "1253          1.0  \n",
       "1254          1.0  \n",
       "1255          1.0  \n",
       "1256          1.0  \n",
       "1257          1.0  "
      ]
     },
     "execution_count": 26,
     "metadata": {},
     "output_type": "execute_result"
    }
   ],
   "source": [
    "df.tail()"
   ]
  },
  {
   "cell_type": "code",
   "execution_count": 27,
   "metadata": {},
   "outputs": [
    {
     "data": {
      "text/plain": [
       "0        99.44\n",
       "1        99.99\n",
       "2        93.42\n",
       "3        94.09\n",
       "4        97.34\n",
       "         ...  \n",
       "1253    128.91\n",
       "1254    127.14\n",
       "1255    127.83\n",
       "1256    132.03\n",
       "1257    136.87\n",
       "Name: close, Length: 1258, dtype: float64"
      ]
     },
     "execution_count": 27,
     "metadata": {},
     "output_type": "execute_result"
    }
   ],
   "source": [
    "df1=df.reset_index()['close']\n",
    "df1"
   ]
  },
  {
   "cell_type": "code",
   "execution_count": 28,
   "metadata": {},
   "outputs": [
    {
     "data": {
      "text/plain": [
       "(1258,)"
      ]
     },
     "execution_count": 28,
     "metadata": {},
     "output_type": "execute_result"
    }
   ],
   "source": [
    "df1.shape"
   ]
  },
  {
   "cell_type": "code",
   "execution_count": 29,
   "metadata": {},
   "outputs": [
    {
     "data": {
      "text/plain": [
       "[<matplotlib.lines.Line2D at 0x25c933e8430>]"
      ]
     },
     "execution_count": 29,
     "metadata": {},
     "output_type": "execute_result"
    },
    {
     "data": {
      "image/png": "[encoded data removed]",
      "text/plain": [
       "<Figure size 432x288 with 1 Axes>"
      ]
     },
     "metadata": {
      "needs_background": "light"
     },
     "output_type": "display_data"
    }
   ],
   "source": [
    "import matplotlib.pyplot as plt\n",
    "plt.plot(df1)"
   ]
  },
  {
   "cell_type": "code",
   "execution_count": 30,
   "metadata": {},
   "outputs": [],
   "source": [
    "### LSTM are sensitive to the scale of the data. so we apply MinMax scaler"
   ]
  },
  {
   "cell_type": "code",
   "execution_count": 31,
   "metadata": {},
   "outputs": [],
   "source": [
    "import numpy as np"
   ]
  },
  {
   "cell_type": "code",
   "execution_count": 32,
   "metadata": {},
   "outputs": [],
   "source": [
    "from sklearn.preprocessing import MinMaxScaler\n",
    "scaler=MinMaxScaler(feature_range=(0,1))\n",
    "df1=scaler.fit_transform(np.array(df1).reshape(-1,1))"
   ]
  },
  {
   "cell_type": "code",
   "execution_count": 33,
   "metadata": {},
   "outputs": [
    {
     "data": {
      "text/plain": [
       "array([[0.02188815],\n",
       "       [0.02321106],\n",
       "       [0.0074083 ],\n",
       "       ...,\n",
       "       [0.09017438],\n",
       "       [0.10027661],\n",
       "       [0.11191822]])"
      ]
     },
     "execution_count": 33,
     "metadata": {},
     "output_type": "execute_result"
    }
   ],
   "source": [
    "df1"
   ]
  },
  {
   "cell_type": "code",
   "execution_count": 34,
   "metadata": {},
   "outputs": [],
   "source": [
    "##splitting dataset into train and test split\n",
    "training_size=int(len(df1)*0.65)\n",
    "test_size=len(df1)-training_size\n",
    "train_data,test_data=df1[0:training_size,:],df1[training_size:len(df1),:1]"
   ]
  },
  {
   "cell_type": "code",
   "execution_count": 35,
   "metadata": {},
   "outputs": [
    {
     "data": {
      "text/plain": [
       "(817, 441)"
      ]
     },
     "execution_count": 35,
     "metadata": {},
     "output_type": "execute_result"
    }
   ],
   "source": [
    "training_size,test_size"
   ]
  },
  {
   "cell_type": "code",
   "execution_count": 36,
   "metadata": {},
   "outputs": [],
   "source": [
    "import numpy\n",
    "# convert an array of values into a dataset matrix\n",
    "def create_dataset(dataset, time_step=1):\n",
    "\tdataX, dataY = [], []\n",
    "\tfor i in range(len(dataset)-time_step-1):\n",
    "\t\ta = dataset[i:(i+time_step), 0]   ###i=0, 0,1,2,3-----99   100 \n",
    "\t\tdataX.append(a)\n",
    "\t\tdataY.append(dataset[i + time_step, 0])\n",
    "\treturn numpy.array(dataX), numpy.array(dataY)"
   ]
  },
  {
   "cell_type": "code",
   "execution_count": 37,
   "metadata": {},
   "outputs": [],
   "source": [
    "# reshape into X=t,t+1,t+2,t+3 and Y=t+4\n",
    "time_step = 100\n",
    "X_train, y_train = create_dataset(train_data, time_step)\n",
    "X_test, ytest = create_dataset(test_data, time_step)"
   ]
  },
  {
   "cell_type": "code",
   "execution_count": 38,
   "metadata": {},
   "outputs": [
    {
     "name": "stdout",
     "output_type": "stream",
     "text": [
      "(716, 100)\n",
      "(716,)\n"
     ]
    },
    {
     "data": {
      "text/plain": [
       "(None, None)"
      ]
     },
     "execution_count": 38,
     "metadata": {},
     "output_type": "execute_result"
    }
   ],
   "source": [
    "print(X_train.shape), print(y_train.shape)"
   ]
  },
  {
   "cell_type": "code",
   "execution_count": 39,
   "metadata": {},
   "outputs": [
    {
     "name": "stdout",
     "output_type": "stream",
     "text": [
      "(340, 100)\n",
      "(340,)\n"
     ]
    },
    {
     "data": {
      "text/plain": [
       "(None, None)"
      ]
     },
     "execution_count": 39,
     "metadata": {},
     "output_type": "execute_result"
    }
   ],
   "source": [
    "print(X_test.shape), print(ytest.shape)"
   ]
  },
  {
   "cell_type": "code",
   "execution_count": 40,
   "metadata": {},
   "outputs": [],
   "source": [
    "# reshape input to be [samples, time steps, features] which is required for LSTM\n",
    "X_train =X_train.reshape(X_train.shape[0],X_train.shape[1] , 1)\n",
    "X_test = X_test.reshape(X_test.shape[0],X_test.shape[1] , 1)"
   ]
  },
  {
   "cell_type": "code",
   "execution_count": 41,
   "metadata": {},
   "outputs": [],
   "source": [
    "### Create the Stacked LSTM model\n",
    "from tensorflow.keras.models import Sequential\n",
    "from tensorflow.keras.layers import Dense\n",
    "from tensorflow.keras.layers import LSTM"
   ]
  },
  {
   "cell_type": "code",
   "execution_count": 42,
   "metadata": {},
   "outputs": [],
   "source": [
    "model=Sequential()\n",
    "model.add(LSTM(50,return_sequences=True,input_shape=(100,1)))\n",
    "model.add(LSTM(50,return_sequences=True))\n",
    "model.add(LSTM(50))\n",
    "model.add(Dense(1))\n",
    "model.compile(loss='mean_squared_error',optimizer='adam')"
   ]
  },
  {
   "cell_type": "code",
   "execution_count": 43,
   "metadata": {},
   "outputs": [
    {
     "name": "stdout",
     "output_type": "stream",
     "text": [
      "Model: \"sequential\"\n",
      "_________________________________________________________________\n",
      "Layer (type)                 Output Shape              Param #   \n",
      "=================================================================\n",
      "lstm (LSTM)                  (None, 100, 50)           10400     \n",
      "_________________________________________________________________\n",
      "lstm_1 (LSTM)                (None, 100, 50)           20200     \n",
      "_________________________________________________________________\n",
      "lstm_2 (LSTM)                (None, 50)                20200     \n",
      "_________________________________________________________________\n",
      "dense (Dense)                (None, 1)                 51        \n",
      "=================================================================\n",
      "Total params: 50,851\n",
      "Trainable params: 50,851\n",
      "Non-trainable params: 0\n",
      "_________________________________________________________________\n"
     ]
    }
   ],
   "source": [
    "model.summary()"
   ]
  },
  {
   "cell_type": "code",
   "execution_count": 44,
   "metadata": {},
   "outputs": [
    {
     "name": "stdout",
     "output_type": "stream",
     "text": [
      "Epoch 1/100\n",
      "12/12 [==============================] - 4s 373ms/step - loss: 0.0071 - val_loss: 0.0518\n",
      "Epoch 2/100\n",
      "12/12 [==============================] - 3s 237ms/step - loss: 0.0019 - val_loss: 0.0235\n",
      "Epoch 3/100\n",
      "12/12 [==============================] - 3s 238ms/step - loss: 6.8321e-04 - val_loss: 0.0211\n",
      "Epoch 4/100\n",
      "12/12 [==============================] - 3s 246ms/step - loss: 4.2589e-04 - val_loss: 0.0208\n",
      "Epoch 5/100\n",
      "12/12 [==============================] - 3s 247ms/step - loss: 3.8032e-04 - val_loss: 0.0196\n",
      "Epoch 6/100\n",
      "12/12 [==============================] - 3s 243ms/step - loss: 3.6535e-04 - val_loss: 0.0191\n",
      "Epoch 7/100\n",
      "12/12 [==============================] - 3s 241ms/step - loss: 3.4020e-04 - val_loss: 0.0187\n",
      "Epoch 8/100\n",
      "12/12 [==============================] - 3s 245ms/step - loss: 3.2355e-04 - val_loss: 0.0183\n",
      "Epoch 9/100\n",
      "12/12 [==============================] - 3s 241ms/step - loss: 3.2806e-04 - val_loss: 0.0178\n",
      "Epoch 10/100\n",
      "12/12 [==============================] - 3s 244ms/step - loss: 3.4335e-04 - val_loss: 0.0174\n",
      "Epoch 11/100\n",
      "12/12 [==============================] - 3s 247ms/step - loss: 3.2257e-04 - val_loss: 0.0169\n",
      "Epoch 12/100\n",
      "12/12 [==============================] - 3s 229ms/step - loss: 2.8116e-04 - val_loss: 0.0163\n",
      "Epoch 13/100\n",
      "12/12 [==============================] - 3s 240ms/step - loss: 2.7537e-04 - val_loss: 0.0158\n",
      "Epoch 14/100\n",
      "12/12 [==============================] - 3s 237ms/step - loss: 2.8607e-04 - val_loss: 0.0153\n",
      "Epoch 15/100\n",
      "12/12 [==============================] - 3s 239ms/step - loss: 2.5325e-04 - val_loss: 0.0149\n",
      "Epoch 16/100\n",
      "12/12 [==============================] - 3s 237ms/step - loss: 2.6064e-04 - val_loss: 0.0146\n",
      "Epoch 17/100\n",
      "12/12 [==============================] - 3s 238ms/step - loss: 2.3584e-04 - val_loss: 0.0147\n",
      "Epoch 18/100\n",
      "12/12 [==============================] - 3s 237ms/step - loss: 2.3602e-04 - val_loss: 0.0143\n",
      "Epoch 19/100\n",
      "12/12 [==============================] - 3s 239ms/step - loss: 2.3125e-04 - val_loss: 0.0144\n",
      "Epoch 20/100\n",
      "12/12 [==============================] - 3s 228ms/step - loss: 2.1701e-04 - val_loss: 0.0171\n",
      "Epoch 21/100\n",
      "12/12 [==============================] - 3s 238ms/step - loss: 2.6883e-04 - val_loss: 0.0140\n",
      "Epoch 22/100\n",
      "12/12 [==============================] - 3s 238ms/step - loss: 2.3524e-04 - val_loss: 0.0165\n",
      "Epoch 23/100\n",
      "12/12 [==============================] - 3s 244ms/step - loss: 2.0020e-04 - val_loss: 0.0158\n",
      "Epoch 24/100\n",
      "12/12 [==============================] - 3s 239ms/step - loss: 1.8262e-04 - val_loss: 0.0162\n",
      "Epoch 25/100\n",
      "12/12 [==============================] - 3s 235ms/step - loss: 1.8943e-04 - val_loss: 0.0159\n",
      "Epoch 26/100\n",
      "12/12 [==============================] - 3s 242ms/step - loss: 1.8981e-04 - val_loss: 0.0162\n",
      "Epoch 27/100\n",
      "12/12 [==============================] - 3s 237ms/step - loss: 1.8114e-04 - val_loss: 0.0146\n",
      "Epoch 28/100\n",
      "12/12 [==============================] - 3s 234ms/step - loss: 1.8186e-04 - val_loss: 0.0168\n",
      "Epoch 29/100\n",
      "12/12 [==============================] - 3s 238ms/step - loss: 1.9444e-04 - val_loss: 0.0157\n",
      "Epoch 30/100\n",
      "12/12 [==============================] - 3s 240ms/step - loss: 1.9145e-04 - val_loss: 0.0170\n",
      "Epoch 31/100\n",
      "12/12 [==============================] - 3s 241ms/step - loss: 1.7583e-04 - val_loss: 0.0165\n",
      "Epoch 32/100\n",
      "12/12 [==============================] - 3s 230ms/step - loss: 1.6399e-04 - val_loss: 0.0160\n",
      "Epoch 33/100\n",
      "12/12 [==============================] - 3s 244ms/step - loss: 1.6940e-04 - val_loss: 0.0152\n",
      "Epoch 34/100\n",
      "12/12 [==============================] - 3s 227ms/step - loss: 1.6319e-04 - val_loss: 0.0167\n",
      "Epoch 35/100\n",
      "12/12 [==============================] - 3s 231ms/step - loss: 1.6248e-04 - val_loss: 0.0162\n",
      "Epoch 36/100\n",
      "12/12 [==============================] - 3s 247ms/step - loss: 1.7385e-04 - val_loss: 0.0159\n",
      "Epoch 37/100\n",
      "12/12 [==============================] - 3s 243ms/step - loss: 1.6940e-04 - val_loss: 0.0155\n",
      "Epoch 38/100\n",
      "12/12 [==============================] - 3s 247ms/step - loss: 1.5698e-04 - val_loss: 0.0148\n",
      "Epoch 39/100\n",
      "12/12 [==============================] - 3s 239ms/step - loss: 1.5701e-04 - val_loss: 0.0195\n",
      "Epoch 40/100\n",
      "12/12 [==============================] - 3s 239ms/step - loss: 1.8219e-04 - val_loss: 0.0142\n",
      "Epoch 41/100\n",
      "12/12 [==============================] - 3s 239ms/step - loss: 1.8294e-04 - val_loss: 0.0160\n",
      "Epoch 42/100\n",
      "12/12 [==============================] - 3s 239ms/step - loss: 1.7393e-04 - val_loss: 0.0166\n",
      "Epoch 43/100\n",
      "12/12 [==============================] - 3s 239ms/step - loss: 1.7165e-04 - val_loss: 0.0157\n",
      "Epoch 44/100\n",
      "12/12 [==============================] - 3s 241ms/step - loss: 1.7295e-04 - val_loss: 0.0166\n",
      "Epoch 45/100\n",
      "12/12 [==============================] - 3s 236ms/step - loss: 1.8277e-04 - val_loss: 0.0162\n",
      "Epoch 46/100\n",
      "12/12 [==============================] - 3s 232ms/step - loss: 1.8415e-04 - val_loss: 0.0153\n",
      "Epoch 47/100\n",
      "12/12 [==============================] - 3s 239ms/step - loss: 1.5956e-04 - val_loss: 0.0143\n",
      "Epoch 48/100\n",
      "12/12 [==============================] - 3s 239ms/step - loss: 1.5897e-04 - val_loss: 0.0162\n",
      "Epoch 49/100\n",
      "12/12 [==============================] - 3s 234ms/step - loss: 1.5419e-04 - val_loss: 0.0164\n",
      "Epoch 50/100\n",
      "12/12 [==============================] - 3s 236ms/step - loss: 1.8002e-04 - val_loss: 0.0143\n",
      "Epoch 51/100\n",
      "12/12 [==============================] - 3s 221ms/step - loss: 1.5262e-04 - val_loss: 0.0137\n",
      "Epoch 52/100\n",
      "12/12 [==============================] - 3s 238ms/step - loss: 1.6128e-04 - val_loss: 0.0185\n",
      "Epoch 53/100\n",
      "12/12 [==============================] - 3s 236ms/step - loss: 1.4956e-04 - val_loss: 0.0146\n",
      "Epoch 54/100\n",
      "12/12 [==============================] - 3s 240ms/step - loss: 1.4829e-04 - val_loss: 0.0144\n",
      "Epoch 55/100\n",
      "12/12 [==============================] - 3s 239ms/step - loss: 1.6130e-04 - val_loss: 0.0156\n",
      "Epoch 56/100\n",
      "12/12 [==============================] - 3s 238ms/step - loss: 1.5550e-04 - val_loss: 0.0167\n",
      "Epoch 57/100\n",
      "12/12 [==============================] - 3s 240ms/step - loss: 1.4517e-04 - val_loss: 0.0158\n",
      "Epoch 58/100\n",
      "12/12 [==============================] - 3s 233ms/step - loss: 1.4191e-04 - val_loss: 0.0130\n",
      "Epoch 59/100\n",
      "12/12 [==============================] - 3s 231ms/step - loss: 1.4463e-04 - val_loss: 0.0147\n",
      "Epoch 60/100\n",
      "12/12 [==============================] - 3s 239ms/step - loss: 1.3579e-04 - val_loss: 0.0168\n",
      "Epoch 61/100\n",
      "12/12 [==============================] - 3s 238ms/step - loss: 1.4038e-04 - val_loss: 0.0146\n",
      "Epoch 62/100\n",
      "12/12 [==============================] - 3s 238ms/step - loss: 1.4016e-04 - val_loss: 0.0134\n",
      "Epoch 63/100\n",
      "12/12 [==============================] - 3s 237ms/step - loss: 1.4322e-04 - val_loss: 0.0156\n",
      "Epoch 64/100\n",
      "12/12 [==============================] - 3s 233ms/step - loss: 1.4059e-04 - val_loss: 0.0133\n",
      "Epoch 65/100\n",
      "12/12 [==============================] - 3s 237ms/step - loss: 1.3195e-04 - val_loss: 0.0142\n",
      "Epoch 66/100\n",
      "12/12 [==============================] - 3s 235ms/step - loss: 1.3094e-04 - val_loss: 0.0141\n",
      "Epoch 67/100\n",
      "12/12 [==============================] - 3s 235ms/step - loss: 1.4060e-04 - val_loss: 0.0117\n",
      "Epoch 68/100\n",
      "12/12 [==============================] - 3s 238ms/step - loss: 1.4399e-04 - val_loss: 0.0163\n",
      "Epoch 69/100\n",
      "12/12 [==============================] - 3s 233ms/step - loss: 1.3463e-04 - val_loss: 0.0139\n",
      "Epoch 70/100\n",
      "12/12 [==============================] - 3s 235ms/step - loss: 1.3944e-04 - val_loss: 0.0106\n",
      "Epoch 71/100\n",
      "12/12 [==============================] - 3s 238ms/step - loss: 1.4636e-04 - val_loss: 0.0107\n",
      "Epoch 72/100\n",
      "12/12 [==============================] - 3s 234ms/step - loss: 1.3775e-04 - val_loss: 0.0109\n",
      "Epoch 73/100\n",
      "12/12 [==============================] - 3s 235ms/step - loss: 1.5039e-04 - val_loss: 0.0128\n",
      "Epoch 74/100\n",
      "12/12 [==============================] - 3s 233ms/step - loss: 1.2613e-04 - val_loss: 0.0103\n",
      "Epoch 75/100\n",
      "12/12 [==============================] - 3s 238ms/step - loss: 1.3214e-04 - val_loss: 0.0134\n",
      "Epoch 76/100\n",
      "12/12 [==============================] - 3s 233ms/step - loss: 1.3877e-04 - val_loss: 0.0112\n",
      "Epoch 77/100\n",
      "12/12 [==============================] - 3s 231ms/step - loss: 1.2287e-04 - val_loss: 0.0105\n",
      "Epoch 78/100\n",
      "12/12 [==============================] - 3s 231ms/step - loss: 1.2338e-04 - val_loss: 0.0110\n",
      "Epoch 79/100\n",
      "12/12 [==============================] - 3s 229ms/step - loss: 1.1828e-04 - val_loss: 0.0109\n",
      "Epoch 80/100\n",
      "12/12 [==============================] - 3s 230ms/step - loss: 1.2865e-04 - val_loss: 0.0128\n",
      "Epoch 81/100\n",
      "12/12 [==============================] - 3s 230ms/step - loss: 1.5520e-04 - val_loss: 0.0135\n",
      "Epoch 82/100\n",
      "12/12 [==============================] - 3s 230ms/step - loss: 1.2357e-04 - val_loss: 0.0096\n",
      "Epoch 83/100\n",
      "12/12 [==============================] - 3s 230ms/step - loss: 1.1664e-04 - val_loss: 0.0117\n",
      "Epoch 84/100\n",
      "12/12 [==============================] - 3s 244ms/step - loss: 1.3227e-04 - val_loss: 0.0096\n",
      "Epoch 85/100\n",
      "12/12 [==============================] - 3s 226ms/step - loss: 1.1481e-04 - val_loss: 0.0109\n",
      "Epoch 86/100\n",
      "12/12 [==============================] - 3s 284ms/step - loss: 1.2024e-04 - val_loss: 0.0091\n",
      "Epoch 87/100\n",
      "12/12 [==============================] - 3s 256ms/step - loss: 1.1863e-04 - val_loss: 0.0100\n",
      "Epoch 88/100\n",
      "12/12 [==============================] - 3s 249ms/step - loss: 1.1074e-04 - val_loss: 0.0119\n",
      "Epoch 89/100\n",
      "12/12 [==============================] - 3s 221ms/step - loss: 1.1963e-04 - val_loss: 0.0097\n",
      "Epoch 90/100\n",
      "12/12 [==============================] - 75s 6s/step - loss: 1.0859e-04 - val_loss: 0.0108\n",
      "Epoch 91/100\n",
      "12/12 [==============================] - 3s 288ms/step - loss: 1.0613e-04 - val_loss: 0.0109\n",
      "Epoch 92/100\n",
      "12/12 [==============================] - 3s 229ms/step - loss: 1.2365e-04 - val_loss: 0.0119\n",
      "Epoch 93/100\n",
      "12/12 [==============================] - 3s 260ms/step - loss: 1.2227e-04 - val_loss: 0.0094\n",
      "Epoch 94/100\n",
      "12/12 [==============================] - 3s 253ms/step - loss: 1.1459e-04 - val_loss: 0.0118\n",
      "Epoch 95/100\n",
      "12/12 [==============================] - 3s 250ms/step - loss: 1.1410e-04 - val_loss: 0.0093\n",
      "Epoch 96/100\n",
      "12/12 [==============================] - 3s 258ms/step - loss: 1.1539e-04 - val_loss: 0.0106\n",
      "Epoch 97/100\n",
      "12/12 [==============================] - 3s 253ms/step - loss: 1.0525e-04 - val_loss: 0.0136\n",
      "Epoch 98/100\n",
      "12/12 [==============================] - 3s 252ms/step - loss: 1.0363e-04 - val_loss: 0.0088\n",
      "Epoch 99/100\n",
      "12/12 [==============================] - 3s 255ms/step - loss: 1.0607e-04 - val_loss: 0.0091\n",
      "Epoch 100/100\n",
      "12/12 [==============================] - 3s 246ms/step - loss: 9.8487e-05 - val_loss: 0.0091\n"
     ]
    },
    {
     "data": {
      "text/plain": [
       "<tensorflow.python.keras.callbacks.History at 0x25ca1a20ac0>"
      ]
     },
     "execution_count": 44,
     "metadata": {},
     "output_type": "execute_result"
    }
   ],
   "source": [
    "model.fit(X_train,y_train,validation_data=(X_test,ytest),epochs=100,batch_size=64,verbose=1)"
   ]
  },
  {
   "cell_type": "code",
   "execution_count": 45,
   "metadata": {},
   "outputs": [],
   "source": [
    "### Lets Do the prediction and check performance metrics\n",
    "train_predict=model.predict(X_train)\n",
    "test_predict=model.predict(X_test)"
   ]
  },
  {
   "cell_type": "code",
   "execution_count": 46,
   "metadata": {},
   "outputs": [],
   "source": [
    "##Transformback to original form\n",
    "train_predict=scaler.inverse_transform(train_predict)\n",
    "test_predict=scaler.inverse_transform(test_predict)"
   ]
  },
  {
   "cell_type": "code",
   "execution_count": 47,
   "metadata": {},
   "outputs": [
    {
     "data": {
      "text/plain": [
       "163.22810371282588"
      ]
     },
     "execution_count": 47,
     "metadata": {},
     "output_type": "execute_result"
    }
   ],
   "source": [
    "### Calculate RMSE performance metrics\n",
    "import math\n",
    "from sklearn.metrics import mean_squared_error\n",
    "math.sqrt(mean_squared_error(y_train,train_predict))"
   ]
  },
  {
   "cell_type": "code",
   "execution_count": 48,
   "metadata": {},
   "outputs": [
    {
     "data": {
      "text/plain": [
       "249.2465601158619"
      ]
     },
     "execution_count": 48,
     "metadata": {},
     "output_type": "execute_result"
    }
   ],
   "source": [
    "### Test Data RMSE\n",
    "math.sqrt(mean_squared_error(ytest,test_predict))"
   ]
  },
  {
   "cell_type": "code",
   "execution_count": 49,
   "metadata": {},
   "outputs": [
    {
     "data": {
      "image/png": "[encoded data removed]",
      "text/plain": [
       "<Figure size 432x288 with 1 Axes>"
      ]
     },
     "metadata": {
      "needs_background": "light"
     },
     "output_type": "display_data"
    }
   ],
   "source": [
    "### Plotting \n",
    "# shift train predictions for plotting\n",
    "look_back=100\n",
    "trainPredictPlot = numpy.empty_like(df1)\n",
    "trainPredictPlot[:, :] = np.nan\n",
    "trainPredictPlot[look_back:len(train_predict)+look_back, :] = train_predict\n",
    "# shift test predictions for plotting\n",
    "testPredictPlot = numpy.empty_like(df1)\n",
    "testPredictPlot[:, :] = numpy.nan\n",
    "testPredictPlot[len(train_predict)+(look_back*2)+1:len(df1)-1, :] = test_predict\n",
    "# plot baseline and predictions\n",
    "plt.plot(scaler.inverse_transform(df1))\n",
    "plt.plot(trainPredictPlot)\n",
    "plt.plot(testPredictPlot)\n",
    "plt.show()"
   ]
  },
  {
   "cell_type": "code",
   "execution_count": 50,
   "metadata": {},
   "outputs": [
    {
     "data": {
      "text/plain": [
       "(1, 100)"
      ]
     },
     "execution_count": 50,
     "metadata": {},
     "output_type": "execute_result"
    }
   ],
   "source": [
    "x_input=test_data[341:].reshape(1,-1)\n",
    "x_input.shape"
   ]
  },
  {
   "cell_type": "code",
   "execution_count": 51,
   "metadata": {},
   "outputs": [],
   "source": [
    "temp_input=list(x_input)\n",
    "temp_input=temp_input[0].tolist()"
   ]
  },
  {
   "cell_type": "code",
   "execution_count": 52,
   "metadata": {
    "scrolled": true
   },
   "outputs": [
    {
     "data": {
      "text/plain": [
       "[0.983499699338545,\n",
       " 0.09308478653036678,\n",
       " 0.10544798556825014,\n",
       " 0.09876127480457003,\n",
       " 0.07345760673481655,\n",
       " 0.07365003006614551,\n",
       " 0.05407095610342749,\n",
       " 0.06489476849067943,\n",
       " 0.055682501503307225,\n",
       " 0.052098616957306054,\n",
       " 0.0601683704149128,\n",
       " 0.06061334936861096,\n",
       " 0.05241130487071555,\n",
       " 0.04810583283223091,\n",
       " 0.03968731208659049,\n",
       " 0.04748045700541187,\n",
       " 0.05164161154539987,\n",
       " 0.04036079374624174,\n",
       " 0.04300661455201443,\n",
       " 0.05277209861695731,\n",
       " 0.05921828021647624,\n",
       " 0.05712567648827421,\n",
       " 0.06126277811184605,\n",
       " 0.06361996392062536,\n",
       " 0.05455201443174984,\n",
       " 0.062922429344558,\n",
       " 0.05488875526157544,\n",
       " 0.059506915213469624,\n",
       " 0.059242333132892344,\n",
       " 0.06405291641611544,\n",
       " 0.08192423331328924,\n",
       " 0.07398677089597111,\n",
       " 0.07420324714371618,\n",
       " 0.07304870715574258,\n",
       " 0.06898376428141911,\n",
       " 0.061671677690920024,\n",
       " 0.06535177390258567,\n",
       " 0.06381238725195432,\n",
       " 0.06111846061334936,\n",
       " 0.059410703547805144,\n",
       " 0.05943475646422125,\n",
       " 0.06316295850871917,\n",
       " 0.05017438364401683,\n",
       " 0.06008418520745634,\n",
       " 0.04454600120264579,\n",
       " 0.04432952495490078,\n",
       " 0.04834636199639203,\n",
       " 0.05919422730006013,\n",
       " 0.06900781719783522,\n",
       " 0.06819001803968727,\n",
       " 0.062489476849067915,\n",
       " 0.06164762477450386,\n",
       " 0.0701142513529765,\n",
       " 0.0694407696933253,\n",
       " 0.06956103427540589,\n",
       " 0.07206253758268188,\n",
       " 0.06987372218881538,\n",
       " 0.0666025255562237,\n",
       " 0.06806975345760674,\n",
       " 0.0649428743235117,\n",
       " 0.056548406494287384,\n",
       " 0.05972339146121464,\n",
       " 0.06179194227300061,\n",
       " 0.06313890559230306,\n",
       " 0.06905592303066743,\n",
       " 0.07788334335538183,\n",
       " 0.07874924834636199,\n",
       " 0.07841250751653633,\n",
       " 0.07675285628382439,\n",
       " 0.08036079374624172,\n",
       " 0.08187612748045697,\n",
       " 0.07562236921226695,\n",
       " 0.0791340950090198,\n",
       " 0.07713770294648226,\n",
       " 0.07562236921226695,\n",
       " 0.0902946482260974,\n",
       " 0.0901262778111846,\n",
       " 0.09226698737221883,\n",
       " 0.08734816596512324,\n",
       " 0.0911365003006614,\n",
       " 0.09991581479254358,\n",
       " 0.09770294648226097,\n",
       " 0.10013229104028859,\n",
       " 0.11148526758869509,\n",
       " 0.10710763680096214,\n",
       " 0.1043415514131088,\n",
       " 0.10186410102224891,\n",
       " 0.09397474443776305,\n",
       " 0.0978232110643415,\n",
       " 0.08721587492483462,\n",
       " 0.09760673481659649,\n",
       " 0.10032471437161755,\n",
       " 0.09294046903187009,\n",
       " 0.09250751653638006,\n",
       " 0.09753457606734811,\n",
       " 0.09277209861695729,\n",
       " 0.08851473241130486,\n",
       " 0.09017438364401681,\n",
       " 0.10027660853878534,\n",
       " 0.11191822008418523]"
      ]
     },
     "execution_count": 52,
     "metadata": {},
     "output_type": "execute_result"
    }
   ],
   "source": [
    "temp_input"
   ]
  },
  {
   "cell_type": "code",
   "execution_count": 53,
   "metadata": {},
   "outputs": [
    {
     "name": "stdout",
     "output_type": "stream",
     "text": [
      "[0.0999381]\n",
      "101\n",
      "1 day input [0.09308479 0.10544799 0.09876127 0.07345761 0.07365003 0.05407096\n",
      " 0.06489477 0.0556825  0.05209862 0.06016837 0.06061335 0.0524113\n",
      " 0.04810583 0.03968731 0.04748046 0.05164161 0.04036079 0.04300661\n",
      " 0.0527721  0.05921828 0.05712568 0.06126278 0.06361996 0.05455201\n",
      " 0.06292243 0.05488876 0.05950692 0.05924233 0.06405292 0.08192423\n",
      " 0.07398677 0.07420325 0.07304871 0.06898376 0.06167168 0.06535177\n",
      " 0.06381239 0.06111846 0.0594107  0.05943476 0.06316296 0.05017438\n",
      " 0.06008419 0.044546   0.04432952 0.04834636 0.05919423 0.06900782\n",
      " 0.06819002 0.06248948 0.06164762 0.07011425 0.06944077 0.06956103\n",
      " 0.07206254 0.06987372 0.06660253 0.06806975 0.06494287 0.05654841\n",
      " 0.05972339 0.06179194 0.06313891 0.06905592 0.07788334 0.07874925\n",
      " 0.07841251 0.07675286 0.08036079 0.08187613 0.07562237 0.0791341\n",
      " 0.0771377  0.07562237 0.09029465 0.09012628 0.09226699 0.08734817\n",
      " 0.0911365  0.09991581 0.09770295 0.10013229 0.11148527 0.10710764\n",
      " 0.10434155 0.1018641  0.09397474 0.09782321 0.08721587 0.09760673\n",
      " 0.10032471 0.09294047 0.09250752 0.09753458 0.0927721  0.08851473\n",
      " 0.09017438 0.10027661 0.11191822 0.0999381 ]\n",
      "1 day output [[0.1019454]]\n",
      "2 day input [0.10544799 0.09876127 0.07345761 0.07365003 0.05407096 0.06489477\n",
      " 0.0556825  0.05209862 0.06016837 0.06061335 0.0524113  0.04810583\n",
      " 0.03968731 0.04748046 0.05164161 0.04036079 0.04300661 0.0527721\n",
      " 0.05921828 0.05712568 0.06126278 0.06361996 0.05455201 0.06292243\n",
      " 0.05488876 0.05950692 0.05924233 0.06405292 0.08192423 0.07398677\n",
      " 0.07420325 0.07304871 0.06898376 0.06167168 0.06535177 0.06381239\n",
      " 0.06111846 0.0594107  0.05943476 0.06316296 0.05017438 0.06008419\n",
      " 0.044546   0.04432952 0.04834636 0.05919423 0.06900782 0.06819002\n",
      " 0.06248948 0.06164762 0.07011425 0.06944077 0.06956103 0.07206254\n",
      " 0.06987372 0.06660253 0.06806975 0.06494287 0.05654841 0.05972339\n",
      " 0.06179194 0.06313891 0.06905592 0.07788334 0.07874925 0.07841251\n",
      " 0.07675286 0.08036079 0.08187613 0.07562237 0.0791341  0.0771377\n",
      " 0.07562237 0.09029465 0.09012628 0.09226699 0.08734817 0.0911365\n",
      " 0.09991581 0.09770295 0.10013229 0.11148527 0.10710764 0.10434155\n",
      " 0.1018641  0.09397474 0.09782321 0.08721587 0.09760673 0.10032471\n",
      " 0.09294047 0.09250752 0.09753458 0.0927721  0.08851473 0.09017438\n",
      " 0.10027661 0.11191822 0.0999381  0.1019454 ]\n",
      "2 day output [[0.1040121]]\n",
      "3 day input [0.09876127 0.07345761 0.07365003 0.05407096 0.06489477 0.0556825\n",
      " 0.05209862 0.06016837 0.06061335 0.0524113  0.04810583 0.03968731\n",
      " 0.04748046 0.05164161 0.04036079 0.04300661 0.0527721  0.05921828\n",
      " 0.05712568 0.06126278 0.06361996 0.05455201 0.06292243 0.05488876\n",
      " 0.05950692 0.05924233 0.06405292 0.08192423 0.07398677 0.07420325\n",
      " 0.07304871 0.06898376 0.06167168 0.06535177 0.06381239 0.06111846\n",
      " 0.0594107  0.05943476 0.06316296 0.05017438 0.06008419 0.044546\n",
      " 0.04432952 0.04834636 0.05919423 0.06900782 0.06819002 0.06248948\n",
      " 0.06164762 0.07011425 0.06944077 0.06956103 0.07206254 0.06987372\n",
      " 0.06660253 0.06806975 0.06494287 0.05654841 0.05972339 0.06179194\n",
      " 0.06313891 0.06905592 0.07788334 0.07874925 0.07841251 0.07675286\n",
      " 0.08036079 0.08187613 0.07562237 0.0791341  0.0771377  0.07562237\n",
      " 0.09029465 0.09012628 0.09226699 0.08734817 0.0911365  0.09991581\n",
      " 0.09770295 0.10013229 0.11148527 0.10710764 0.10434155 0.1018641\n",
      " 0.09397474 0.09782321 0.08721587 0.09760673 0.10032471 0.09294047\n",
      " 0.09250752 0.09753458 0.0927721  0.08851473 0.09017438 0.10027661\n",
      " 0.11191822 0.0999381  0.1019454  0.1040121 ]\n",
      "3 day output [[0.10592814]]\n",
      "4 day input [0.07345761 0.07365003 0.05407096 0.06489477 0.0556825  0.05209862\n",
      " 0.06016837 0.06061335 0.0524113  0.04810583 0.03968731 0.04748046\n",
      " 0.05164161 0.04036079 0.04300661 0.0527721  0.05921828 0.05712568\n",
      " 0.06126278 0.06361996 0.05455201 0.06292243 0.05488876 0.05950692\n",
      " 0.05924233 0.06405292 0.08192423 0.07398677 0.07420325 0.07304871\n",
      " 0.06898376 0.06167168 0.06535177 0.06381239 0.06111846 0.0594107\n",
      " 0.05943476 0.06316296 0.05017438 0.06008419 0.044546   0.04432952\n",
      " 0.04834636 0.05919423 0.06900782 0.06819002 0.06248948 0.06164762\n",
      " 0.07011425 0.06944077 0.06956103 0.07206254 0.06987372 0.06660253\n",
      " 0.06806975 0.06494287 0.05654841 0.05972339 0.06179194 0.06313891\n",
      " 0.06905592 0.07788334 0.07874925 0.07841251 0.07675286 0.08036079\n",
      " 0.08187613 0.07562237 0.0791341  0.0771377  0.07562237 0.09029465\n",
      " 0.09012628 0.09226699 0.08734817 0.0911365  0.09991581 0.09770295\n",
      " 0.10013229 0.11148527 0.10710764 0.10434155 0.1018641  0.09397474\n",
      " 0.09782321 0.08721587 0.09760673 0.10032471 0.09294047 0.09250752\n",
      " 0.09753458 0.0927721  0.08851473 0.09017438 0.10027661 0.11191822\n",
      " 0.0999381  0.1019454  0.1040121  0.10592814]\n",
      "4 day output [[0.10763891]]\n",
      "5 day input [0.07365003 0.05407096 0.06489477 0.0556825  0.05209862 0.06016837\n",
      " 0.06061335 0.0524113  0.04810583 0.03968731 0.04748046 0.05164161\n",
      " 0.04036079 0.04300661 0.0527721  0.05921828 0.05712568 0.06126278\n",
      " 0.06361996 0.05455201 0.06292243 0.05488876 0.05950692 0.05924233\n",
      " 0.06405292 0.08192423 0.07398677 0.07420325 0.07304871 0.06898376\n",
      " 0.06167168 0.06535177 0.06381239 0.06111846 0.0594107  0.05943476\n",
      " 0.06316296 0.05017438 0.06008419 0.044546   0.04432952 0.04834636\n",
      " 0.05919423 0.06900782 0.06819002 0.06248948 0.06164762 0.07011425\n",
      " 0.06944077 0.06956103 0.07206254 0.06987372 0.06660253 0.06806975\n",
      " 0.06494287 0.05654841 0.05972339 0.06179194 0.06313891 0.06905592\n",
      " 0.07788334 0.07874925 0.07841251 0.07675286 0.08036079 0.08187613\n",
      " 0.07562237 0.0791341  0.0771377  0.07562237 0.09029465 0.09012628\n",
      " 0.09226699 0.08734817 0.0911365  0.09991581 0.09770295 0.10013229\n",
      " 0.11148527 0.10710764 0.10434155 0.1018641  0.09397474 0.09782321\n",
      " 0.08721587 0.09760673 0.10032471 0.09294047 0.09250752 0.09753458\n",
      " 0.0927721  0.08851473 0.09017438 0.10027661 0.11191822 0.0999381\n",
      " 0.1019454  0.1040121  0.10592814 0.10763891]\n",
      "5 day output [[0.10916522]]\n",
      "6 day input [0.05407096 0.06489477 0.0556825  0.05209862 0.06016837 0.06061335\n",
      " 0.0524113  0.04810583 0.03968731 0.04748046 0.05164161 0.04036079\n",
      " 0.04300661 0.0527721  0.05921828 0.05712568 0.06126278 0.06361996\n",
      " 0.05455201 0.06292243 0.05488876 0.05950692 0.05924233 0.06405292\n",
      " 0.08192423 0.07398677 0.07420325 0.07304871 0.06898376 0.06167168\n",
      " 0.06535177 0.06381239 0.06111846 0.0594107  0.05943476 0.06316296\n",
      " 0.05017438 0.06008419 0.044546   0.04432952 0.04834636 0.05919423\n",
      " 0.06900782 0.06819002 0.06248948 0.06164762 0.07011425 0.06944077\n",
      " 0.06956103 0.07206254 0.06987372 0.06660253 0.06806975 0.06494287\n",
      " 0.05654841 0.05972339 0.06179194 0.06313891 0.06905592 0.07788334\n",
      " 0.07874925 0.07841251 0.07675286 0.08036079 0.08187613 0.07562237\n",
      " 0.0791341  0.0771377  0.07562237 0.09029465 0.09012628 0.09226699\n",
      " 0.08734817 0.0911365  0.09991581 0.09770295 0.10013229 0.11148527\n",
      " 0.10710764 0.10434155 0.1018641  0.09397474 0.09782321 0.08721587\n",
      " 0.09760673 0.10032471 0.09294047 0.09250752 0.09753458 0.0927721\n",
      " 0.08851473 0.09017438 0.10027661 0.11191822 0.0999381  0.1019454\n",
      " 0.1040121  0.10592814 0.10763891 0.10916522]\n",
      "6 day output [[0.11055127]]\n",
      "7 day input [0.06489477 0.0556825  0.05209862 0.06016837 0.06061335 0.0524113\n",
      " 0.04810583 0.03968731 0.04748046 0.05164161 0.04036079 0.04300661\n",
      " 0.0527721  0.05921828 0.05712568 0.06126278 0.06361996 0.05455201\n",
      " 0.06292243 0.05488876 0.05950692 0.05924233 0.06405292 0.08192423\n",
      " 0.07398677 0.07420325 0.07304871 0.06898376 0.06167168 0.06535177\n",
      " 0.06381239 0.06111846 0.0594107  0.05943476 0.06316296 0.05017438\n",
      " 0.06008419 0.044546   0.04432952 0.04834636 0.05919423 0.06900782\n",
      " 0.06819002 0.06248948 0.06164762 0.07011425 0.06944077 0.06956103\n",
      " 0.07206254 0.06987372 0.06660253 0.06806975 0.06494287 0.05654841\n",
      " 0.05972339 0.06179194 0.06313891 0.06905592 0.07788334 0.07874925\n",
      " 0.07841251 0.07675286 0.08036079 0.08187613 0.07562237 0.0791341\n",
      " 0.0771377  0.07562237 0.09029465 0.09012628 0.09226699 0.08734817\n",
      " 0.0911365  0.09991581 0.09770295 0.10013229 0.11148527 0.10710764\n",
      " 0.10434155 0.1018641  0.09397474 0.09782321 0.08721587 0.09760673\n",
      " 0.10032471 0.09294047 0.09250752 0.09753458 0.0927721  0.08851473\n",
      " 0.09017438 0.10027661 0.11191822 0.0999381  0.1019454  0.1040121\n",
      " 0.10592814 0.10763891 0.10916522 0.11055127]\n",
      "7 day output [[0.11183918]]\n",
      "8 day input [0.0556825  0.05209862 0.06016837 0.06061335 0.0524113  0.04810583\n",
      " 0.03968731 0.04748046 0.05164161 0.04036079 0.04300661 0.0527721\n",
      " 0.05921828 0.05712568 0.06126278 0.06361996 0.05455201 0.06292243\n",
      " 0.05488876 0.05950692 0.05924233 0.06405292 0.08192423 0.07398677\n",
      " 0.07420325 0.07304871 0.06898376 0.06167168 0.06535177 0.06381239\n",
      " 0.06111846 0.0594107  0.05943476 0.06316296 0.05017438 0.06008419\n",
      " 0.044546   0.04432952 0.04834636 0.05919423 0.06900782 0.06819002\n",
      " 0.06248948 0.06164762 0.07011425 0.06944077 0.06956103 0.07206254\n",
      " 0.06987372 0.06660253 0.06806975 0.06494287 0.05654841 0.05972339\n",
      " 0.06179194 0.06313891 0.06905592 0.07788334 0.07874925 0.07841251\n",
      " 0.07675286 0.08036079 0.08187613 0.07562237 0.0791341  0.0771377\n",
      " 0.07562237 0.09029465 0.09012628 0.09226699 0.08734817 0.0911365\n",
      " 0.09991581 0.09770295 0.10013229 0.11148527 0.10710764 0.10434155\n",
      " 0.1018641  0.09397474 0.09782321 0.08721587 0.09760673 0.10032471\n",
      " 0.09294047 0.09250752 0.09753458 0.0927721  0.08851473 0.09017438\n",
      " 0.10027661 0.11191822 0.0999381  0.1019454  0.1040121  0.10592814\n",
      " 0.10763891 0.10916522 0.11055127 0.11183918]\n",
      "8 day output [[0.11306009]]\n",
      "9 day input [0.05209862 0.06016837 0.06061335 0.0524113  0.04810583 0.03968731\n",
      " 0.04748046 0.05164161 0.04036079 0.04300661 0.0527721  0.05921828\n",
      " 0.05712568 0.06126278 0.06361996 0.05455201 0.06292243 0.05488876\n",
      " 0.05950692 0.05924233 0.06405292 0.08192423 0.07398677 0.07420325\n",
      " 0.07304871 0.06898376 0.06167168 0.06535177 0.06381239 0.06111846\n",
      " 0.0594107  0.05943476 0.06316296 0.05017438 0.06008419 0.044546\n",
      " 0.04432952 0.04834636 0.05919423 0.06900782 0.06819002 0.06248948\n",
      " 0.06164762 0.07011425 0.06944077 0.06956103 0.07206254 0.06987372\n",
      " 0.06660253 0.06806975 0.06494287 0.05654841 0.05972339 0.06179194\n",
      " 0.06313891 0.06905592 0.07788334 0.07874925 0.07841251 0.07675286\n",
      " 0.08036079 0.08187613 0.07562237 0.0791341  0.0771377  0.07562237\n",
      " 0.09029465 0.09012628 0.09226699 0.08734817 0.0911365  0.09991581\n",
      " 0.09770295 0.10013229 0.11148527 0.10710764 0.10434155 0.1018641\n",
      " 0.09397474 0.09782321 0.08721587 0.09760673 0.10032471 0.09294047\n",
      " 0.09250752 0.09753458 0.0927721  0.08851473 0.09017438 0.10027661\n",
      " 0.11191822 0.0999381  0.1019454  0.1040121  0.10592814 0.10763891\n",
      " 0.10916522 0.11055127 0.11183918 0.11306009]\n",
      "9 day output [[0.11423408]]\n",
      "10 day input [0.06016837 0.06061335 0.0524113  0.04810583 0.03968731 0.04748046\n",
      " 0.05164161 0.04036079 0.04300661 0.0527721  0.05921828 0.05712568\n",
      " 0.06126278 0.06361996 0.05455201 0.06292243 0.05488876 0.05950692\n",
      " 0.05924233 0.06405292 0.08192423 0.07398677 0.07420325 0.07304871\n",
      " 0.06898376 0.06167168 0.06535177 0.06381239 0.06111846 0.0594107\n",
      " 0.05943476 0.06316296 0.05017438 0.06008419 0.044546   0.04432952\n",
      " 0.04834636 0.05919423 0.06900782 0.06819002 0.06248948 0.06164762\n",
      " 0.07011425 0.06944077 0.06956103 0.07206254 0.06987372 0.06660253\n",
      " 0.06806975 0.06494287 0.05654841 0.05972339 0.06179194 0.06313891\n",
      " 0.06905592 0.07788334 0.07874925 0.07841251 0.07675286 0.08036079\n",
      " 0.08187613 0.07562237 0.0791341  0.0771377  0.07562237 0.09029465\n",
      " 0.09012628 0.09226699 0.08734817 0.0911365  0.09991581 0.09770295\n",
      " 0.10013229 0.11148527 0.10710764 0.10434155 0.1018641  0.09397474\n",
      " 0.09782321 0.08721587 0.09760673 0.10032471 0.09294047 0.09250752\n",
      " 0.09753458 0.0927721  0.08851473 0.09017438 0.10027661 0.11191822\n",
      " 0.0999381  0.1019454  0.1040121  0.10592814 0.10763891 0.10916522\n",
      " 0.11055127 0.11183918 0.11306009 0.11423408]\n",
      "10 day output [[0.11537356]]\n",
      "11 day input [0.06061335 0.0524113  0.04810583 0.03968731 0.04748046 0.05164161\n",
      " 0.04036079 0.04300661 0.0527721  0.05921828 0.05712568 0.06126278\n",
      " 0.06361996 0.05455201 0.06292243 0.05488876 0.05950692 0.05924233\n",
      " 0.06405292 0.08192423 0.07398677 0.07420325 0.07304871 0.06898376\n",
      " 0.06167168 0.06535177 0.06381239 0.06111846 0.0594107  0.05943476\n",
      " 0.06316296 0.05017438 0.06008419 0.044546   0.04432952 0.04834636\n",
      " 0.05919423 0.06900782 0.06819002 0.06248948 0.06164762 0.07011425\n",
      " 0.06944077 0.06956103 0.07206254 0.06987372 0.06660253 0.06806975\n",
      " 0.06494287 0.05654841 0.05972339 0.06179194 0.06313891 0.06905592\n",
      " 0.07788334 0.07874925 0.07841251 0.07675286 0.08036079 0.08187613\n",
      " 0.07562237 0.0791341  0.0771377  0.07562237 0.09029465 0.09012628\n",
      " 0.09226699 0.08734817 0.0911365  0.09991581 0.09770295 0.10013229\n",
      " 0.11148527 0.10710764 0.10434155 0.1018641  0.09397474 0.09782321\n",
      " 0.08721587 0.09760673 0.10032471 0.09294047 0.09250752 0.09753458\n",
      " 0.0927721  0.08851473 0.09017438 0.10027661 0.11191822 0.0999381\n",
      " 0.1019454  0.1040121  0.10592814 0.10763891 0.10916522 0.11055127\n",
      " 0.11183918 0.11306009 0.11423408 0.11537356]\n"
     ]
    },
    {
     "name": "stdout",
     "output_type": "stream",
     "text": [
      "11 day output [[0.11648665]]\n",
      "12 day input [0.0524113  0.04810583 0.03968731 0.04748046 0.05164161 0.04036079\n",
      " 0.04300661 0.0527721  0.05921828 0.05712568 0.06126278 0.06361996\n",
      " 0.05455201 0.06292243 0.05488876 0.05950692 0.05924233 0.06405292\n",
      " 0.08192423 0.07398677 0.07420325 0.07304871 0.06898376 0.06167168\n",
      " 0.06535177 0.06381239 0.06111846 0.0594107  0.05943476 0.06316296\n",
      " 0.05017438 0.06008419 0.044546   0.04432952 0.04834636 0.05919423\n",
      " 0.06900782 0.06819002 0.06248948 0.06164762 0.07011425 0.06944077\n",
      " 0.06956103 0.07206254 0.06987372 0.06660253 0.06806975 0.06494287\n",
      " 0.05654841 0.05972339 0.06179194 0.06313891 0.06905592 0.07788334\n",
      " 0.07874925 0.07841251 0.07675286 0.08036079 0.08187613 0.07562237\n",
      " 0.0791341  0.0771377  0.07562237 0.09029465 0.09012628 0.09226699\n",
      " 0.08734817 0.0911365  0.09991581 0.09770295 0.10013229 0.11148527\n",
      " 0.10710764 0.10434155 0.1018641  0.09397474 0.09782321 0.08721587\n",
      " 0.09760673 0.10032471 0.09294047 0.09250752 0.09753458 0.0927721\n",
      " 0.08851473 0.09017438 0.10027661 0.11191822 0.0999381  0.1019454\n",
      " 0.1040121  0.10592814 0.10763891 0.10916522 0.11055127 0.11183918\n",
      " 0.11306009 0.11423408 0.11537356 0.11648665]\n",
      "12 day output [[0.11757957]]\n",
      "13 day input [0.04810583 0.03968731 0.04748046 0.05164161 0.04036079 0.04300661\n",
      " 0.0527721  0.05921828 0.05712568 0.06126278 0.06361996 0.05455201\n",
      " 0.06292243 0.05488876 0.05950692 0.05924233 0.06405292 0.08192423\n",
      " 0.07398677 0.07420325 0.07304871 0.06898376 0.06167168 0.06535177\n",
      " 0.06381239 0.06111846 0.0594107  0.05943476 0.06316296 0.05017438\n",
      " 0.06008419 0.044546   0.04432952 0.04834636 0.05919423 0.06900782\n",
      " 0.06819002 0.06248948 0.06164762 0.07011425 0.06944077 0.06956103\n",
      " 0.07206254 0.06987372 0.06660253 0.06806975 0.06494287 0.05654841\n",
      " 0.05972339 0.06179194 0.06313891 0.06905592 0.07788334 0.07874925\n",
      " 0.07841251 0.07675286 0.08036079 0.08187613 0.07562237 0.0791341\n",
      " 0.0771377  0.07562237 0.09029465 0.09012628 0.09226699 0.08734817\n",
      " 0.0911365  0.09991581 0.09770295 0.10013229 0.11148527 0.10710764\n",
      " 0.10434155 0.1018641  0.09397474 0.09782321 0.08721587 0.09760673\n",
      " 0.10032471 0.09294047 0.09250752 0.09753458 0.0927721  0.08851473\n",
      " 0.09017438 0.10027661 0.11191822 0.0999381  0.1019454  0.1040121\n",
      " 0.10592814 0.10763891 0.10916522 0.11055127 0.11183918 0.11306009\n",
      " 0.11423408 0.11537356 0.11648665 0.11757957]\n",
      "13 day output [[0.11865782]]\n",
      "14 day input [0.03968731 0.04748046 0.05164161 0.04036079 0.04300661 0.0527721\n",
      " 0.05921828 0.05712568 0.06126278 0.06361996 0.05455201 0.06292243\n",
      " 0.05488876 0.05950692 0.05924233 0.06405292 0.08192423 0.07398677\n",
      " 0.07420325 0.07304871 0.06898376 0.06167168 0.06535177 0.06381239\n",
      " 0.06111846 0.0594107  0.05943476 0.06316296 0.05017438 0.06008419\n",
      " 0.044546   0.04432952 0.04834636 0.05919423 0.06900782 0.06819002\n",
      " 0.06248948 0.06164762 0.07011425 0.06944077 0.06956103 0.07206254\n",
      " 0.06987372 0.06660253 0.06806975 0.06494287 0.05654841 0.05972339\n",
      " 0.06179194 0.06313891 0.06905592 0.07788334 0.07874925 0.07841251\n",
      " 0.07675286 0.08036079 0.08187613 0.07562237 0.0791341  0.0771377\n",
      " 0.07562237 0.09029465 0.09012628 0.09226699 0.08734817 0.0911365\n",
      " 0.09991581 0.09770295 0.10013229 0.11148527 0.10710764 0.10434155\n",
      " 0.1018641  0.09397474 0.09782321 0.08721587 0.09760673 0.10032471\n",
      " 0.09294047 0.09250752 0.09753458 0.0927721  0.08851473 0.09017438\n",
      " 0.10027661 0.11191822 0.0999381  0.1019454  0.1040121  0.10592814\n",
      " 0.10763891 0.10916522 0.11055127 0.11183918 0.11306009 0.11423408\n",
      " 0.11537356 0.11648665 0.11757957 0.11865782]\n",
      "14 day output [[0.11972671]]\n",
      "15 day input [0.04748046 0.05164161 0.04036079 0.04300661 0.0527721  0.05921828\n",
      " 0.05712568 0.06126278 0.06361996 0.05455201 0.06292243 0.05488876\n",
      " 0.05950692 0.05924233 0.06405292 0.08192423 0.07398677 0.07420325\n",
      " 0.07304871 0.06898376 0.06167168 0.06535177 0.06381239 0.06111846\n",
      " 0.0594107  0.05943476 0.06316296 0.05017438 0.06008419 0.044546\n",
      " 0.04432952 0.04834636 0.05919423 0.06900782 0.06819002 0.06248948\n",
      " 0.06164762 0.07011425 0.06944077 0.06956103 0.07206254 0.06987372\n",
      " 0.06660253 0.06806975 0.06494287 0.05654841 0.05972339 0.06179194\n",
      " 0.06313891 0.06905592 0.07788334 0.07874925 0.07841251 0.07675286\n",
      " 0.08036079 0.08187613 0.07562237 0.0791341  0.0771377  0.07562237\n",
      " 0.09029465 0.09012628 0.09226699 0.08734817 0.0911365  0.09991581\n",
      " 0.09770295 0.10013229 0.11148527 0.10710764 0.10434155 0.1018641\n",
      " 0.09397474 0.09782321 0.08721587 0.09760673 0.10032471 0.09294047\n",
      " 0.09250752 0.09753458 0.0927721  0.08851473 0.09017438 0.10027661\n",
      " 0.11191822 0.0999381  0.1019454  0.1040121  0.10592814 0.10763891\n",
      " 0.10916522 0.11055127 0.11183918 0.11306009 0.11423408 0.11537356\n",
      " 0.11648665 0.11757957 0.11865782 0.11972671]\n",
      "15 day output [[0.12079114]]\n",
      "16 day input [0.05164161 0.04036079 0.04300661 0.0527721  0.05921828 0.05712568\n",
      " 0.06126278 0.06361996 0.05455201 0.06292243 0.05488876 0.05950692\n",
      " 0.05924233 0.06405292 0.08192423 0.07398677 0.07420325 0.07304871\n",
      " 0.06898376 0.06167168 0.06535177 0.06381239 0.06111846 0.0594107\n",
      " 0.05943476 0.06316296 0.05017438 0.06008419 0.044546   0.04432952\n",
      " 0.04834636 0.05919423 0.06900782 0.06819002 0.06248948 0.06164762\n",
      " 0.07011425 0.06944077 0.06956103 0.07206254 0.06987372 0.06660253\n",
      " 0.06806975 0.06494287 0.05654841 0.05972339 0.06179194 0.06313891\n",
      " 0.06905592 0.07788334 0.07874925 0.07841251 0.07675286 0.08036079\n",
      " 0.08187613 0.07562237 0.0791341  0.0771377  0.07562237 0.09029465\n",
      " 0.09012628 0.09226699 0.08734817 0.0911365  0.09991581 0.09770295\n",
      " 0.10013229 0.11148527 0.10710764 0.10434155 0.1018641  0.09397474\n",
      " 0.09782321 0.08721587 0.09760673 0.10032471 0.09294047 0.09250752\n",
      " 0.09753458 0.0927721  0.08851473 0.09017438 0.10027661 0.11191822\n",
      " 0.0999381  0.1019454  0.1040121  0.10592814 0.10763891 0.10916522\n",
      " 0.11055127 0.11183918 0.11306009 0.11423408 0.11537356 0.11648665\n",
      " 0.11757957 0.11865782 0.11972671 0.12079114]\n",
      "16 day output [[0.12185562]]\n",
      "17 day input [0.04036079 0.04300661 0.0527721  0.05921828 0.05712568 0.06126278\n",
      " 0.06361996 0.05455201 0.06292243 0.05488876 0.05950692 0.05924233\n",
      " 0.06405292 0.08192423 0.07398677 0.07420325 0.07304871 0.06898376\n",
      " 0.06167168 0.06535177 0.06381239 0.06111846 0.0594107  0.05943476\n",
      " 0.06316296 0.05017438 0.06008419 0.044546   0.04432952 0.04834636\n",
      " 0.05919423 0.06900782 0.06819002 0.06248948 0.06164762 0.07011425\n",
      " 0.06944077 0.06956103 0.07206254 0.06987372 0.06660253 0.06806975\n",
      " 0.06494287 0.05654841 0.05972339 0.06179194 0.06313891 0.06905592\n",
      " 0.07788334 0.07874925 0.07841251 0.07675286 0.08036079 0.08187613\n",
      " 0.07562237 0.0791341  0.0771377  0.07562237 0.09029465 0.09012628\n",
      " 0.09226699 0.08734817 0.0911365  0.09991581 0.09770295 0.10013229\n",
      " 0.11148527 0.10710764 0.10434155 0.1018641  0.09397474 0.09782321\n",
      " 0.08721587 0.09760673 0.10032471 0.09294047 0.09250752 0.09753458\n",
      " 0.0927721  0.08851473 0.09017438 0.10027661 0.11191822 0.0999381\n",
      " 0.1019454  0.1040121  0.10592814 0.10763891 0.10916522 0.11055127\n",
      " 0.11183918 0.11306009 0.11423408 0.11537356 0.11648665 0.11757957\n",
      " 0.11865782 0.11972671 0.12079114 0.12185562]\n",
      "17 day output [[0.12292396]]\n",
      "18 day input [0.04300661 0.0527721  0.05921828 0.05712568 0.06126278 0.06361996\n",
      " 0.05455201 0.06292243 0.05488876 0.05950692 0.05924233 0.06405292\n",
      " 0.08192423 0.07398677 0.07420325 0.07304871 0.06898376 0.06167168\n",
      " 0.06535177 0.06381239 0.06111846 0.0594107  0.05943476 0.06316296\n",
      " 0.05017438 0.06008419 0.044546   0.04432952 0.04834636 0.05919423\n",
      " 0.06900782 0.06819002 0.06248948 0.06164762 0.07011425 0.06944077\n",
      " 0.06956103 0.07206254 0.06987372 0.06660253 0.06806975 0.06494287\n",
      " 0.05654841 0.05972339 0.06179194 0.06313891 0.06905592 0.07788334\n",
      " 0.07874925 0.07841251 0.07675286 0.08036079 0.08187613 0.07562237\n",
      " 0.0791341  0.0771377  0.07562237 0.09029465 0.09012628 0.09226699\n",
      " 0.08734817 0.0911365  0.09991581 0.09770295 0.10013229 0.11148527\n",
      " 0.10710764 0.10434155 0.1018641  0.09397474 0.09782321 0.08721587\n",
      " 0.09760673 0.10032471 0.09294047 0.09250752 0.09753458 0.0927721\n",
      " 0.08851473 0.09017438 0.10027661 0.11191822 0.0999381  0.1019454\n",
      " 0.1040121  0.10592814 0.10763891 0.10916522 0.11055127 0.11183918\n",
      " 0.11306009 0.11423408 0.11537356 0.11648665 0.11757957 0.11865782\n",
      " 0.11972671 0.12079114 0.12185562 0.12292396]\n",
      "18 day output [[0.12399909]]\n",
      "19 day input [0.0527721  0.05921828 0.05712568 0.06126278 0.06361996 0.05455201\n",
      " 0.06292243 0.05488876 0.05950692 0.05924233 0.06405292 0.08192423\n",
      " 0.07398677 0.07420325 0.07304871 0.06898376 0.06167168 0.06535177\n",
      " 0.06381239 0.06111846 0.0594107  0.05943476 0.06316296 0.05017438\n",
      " 0.06008419 0.044546   0.04432952 0.04834636 0.05919423 0.06900782\n",
      " 0.06819002 0.06248948 0.06164762 0.07011425 0.06944077 0.06956103\n",
      " 0.07206254 0.06987372 0.06660253 0.06806975 0.06494287 0.05654841\n",
      " 0.05972339 0.06179194 0.06313891 0.06905592 0.07788334 0.07874925\n",
      " 0.07841251 0.07675286 0.08036079 0.08187613 0.07562237 0.0791341\n",
      " 0.0771377  0.07562237 0.09029465 0.09012628 0.09226699 0.08734817\n",
      " 0.0911365  0.09991581 0.09770295 0.10013229 0.11148527 0.10710764\n",
      " 0.10434155 0.1018641  0.09397474 0.09782321 0.08721587 0.09760673\n",
      " 0.10032471 0.09294047 0.09250752 0.09753458 0.0927721  0.08851473\n",
      " 0.09017438 0.10027661 0.11191822 0.0999381  0.1019454  0.1040121\n",
      " 0.10592814 0.10763891 0.10916522 0.11055127 0.11183918 0.11306009\n",
      " 0.11423408 0.11537356 0.11648665 0.11757957 0.11865782 0.11972671\n",
      " 0.12079114 0.12185562 0.12292396 0.12399909]\n",
      "19 day output [[0.1250832]]\n",
      "20 day input [0.05921828 0.05712568 0.06126278 0.06361996 0.05455201 0.06292243\n",
      " 0.05488876 0.05950692 0.05924233 0.06405292 0.08192423 0.07398677\n",
      " 0.07420325 0.07304871 0.06898376 0.06167168 0.06535177 0.06381239\n",
      " 0.06111846 0.0594107  0.05943476 0.06316296 0.05017438 0.06008419\n",
      " 0.044546   0.04432952 0.04834636 0.05919423 0.06900782 0.06819002\n",
      " 0.06248948 0.06164762 0.07011425 0.06944077 0.06956103 0.07206254\n",
      " 0.06987372 0.06660253 0.06806975 0.06494287 0.05654841 0.05972339\n",
      " 0.06179194 0.06313891 0.06905592 0.07788334 0.07874925 0.07841251\n",
      " 0.07675286 0.08036079 0.08187613 0.07562237 0.0791341  0.0771377\n",
      " 0.07562237 0.09029465 0.09012628 0.09226699 0.08734817 0.0911365\n",
      " 0.09991581 0.09770295 0.10013229 0.11148527 0.10710764 0.10434155\n",
      " 0.1018641  0.09397474 0.09782321 0.08721587 0.09760673 0.10032471\n",
      " 0.09294047 0.09250752 0.09753458 0.0927721  0.08851473 0.09017438\n",
      " 0.10027661 0.11191822 0.0999381  0.1019454  0.1040121  0.10592814\n",
      " 0.10763891 0.10916522 0.11055127 0.11183918 0.11306009 0.11423408\n",
      " 0.11537356 0.11648665 0.11757957 0.11865782 0.11972671 0.12079114\n",
      " 0.12185562 0.12292396 0.12399909 0.12508319]\n",
      "20 day output [[0.12617756]]\n",
      "21 day input [0.05712568 0.06126278 0.06361996 0.05455201 0.06292243 0.05488876\n",
      " 0.05950692 0.05924233 0.06405292 0.08192423 0.07398677 0.07420325\n",
      " 0.07304871 0.06898376 0.06167168 0.06535177 0.06381239 0.06111846\n",
      " 0.0594107  0.05943476 0.06316296 0.05017438 0.06008419 0.044546\n",
      " 0.04432952 0.04834636 0.05919423 0.06900782 0.06819002 0.06248948\n",
      " 0.06164762 0.07011425 0.06944077 0.06956103 0.07206254 0.06987372\n",
      " 0.06660253 0.06806975 0.06494287 0.05654841 0.05972339 0.06179194\n",
      " 0.06313891 0.06905592 0.07788334 0.07874925 0.07841251 0.07675286\n",
      " 0.08036079 0.08187613 0.07562237 0.0791341  0.0771377  0.07562237\n",
      " 0.09029465 0.09012628 0.09226699 0.08734817 0.0911365  0.09991581\n",
      " 0.09770295 0.10013229 0.11148527 0.10710764 0.10434155 0.1018641\n",
      " 0.09397474 0.09782321 0.08721587 0.09760673 0.10032471 0.09294047\n",
      " 0.09250752 0.09753458 0.0927721  0.08851473 0.09017438 0.10027661\n",
      " 0.11191822 0.0999381  0.1019454  0.1040121  0.10592814 0.10763891\n",
      " 0.10916522 0.11055127 0.11183918 0.11306009 0.11423408 0.11537356\n",
      " 0.11648665 0.11757957 0.11865782 0.11972671 0.12079114 0.12185562\n",
      " 0.12292396 0.12399909 0.12508319 0.12617756]\n",
      "21 day output [[0.12728302]]\n",
      "22 day input [0.06126278 0.06361996 0.05455201 0.06292243 0.05488876 0.05950692\n",
      " 0.05924233 0.06405292 0.08192423 0.07398677 0.07420325 0.07304871\n",
      " 0.06898376 0.06167168 0.06535177 0.06381239 0.06111846 0.0594107\n",
      " 0.05943476 0.06316296 0.05017438 0.06008419 0.044546   0.04432952\n",
      " 0.04834636 0.05919423 0.06900782 0.06819002 0.06248948 0.06164762\n",
      " 0.07011425 0.06944077 0.06956103 0.07206254 0.06987372 0.06660253\n",
      " 0.06806975 0.06494287 0.05654841 0.05972339 0.06179194 0.06313891\n",
      " 0.06905592 0.07788334 0.07874925 0.07841251 0.07675286 0.08036079\n",
      " 0.08187613 0.07562237 0.0791341  0.0771377  0.07562237 0.09029465\n",
      " 0.09012628 0.09226699 0.08734817 0.0911365  0.09991581 0.09770295\n",
      " 0.10013229 0.11148527 0.10710764 0.10434155 0.1018641  0.09397474\n",
      " 0.09782321 0.08721587 0.09760673 0.10032471 0.09294047 0.09250752\n",
      " 0.09753458 0.0927721  0.08851473 0.09017438 0.10027661 0.11191822\n",
      " 0.0999381  0.1019454  0.1040121  0.10592814 0.10763891 0.10916522\n",
      " 0.11055127 0.11183918 0.11306009 0.11423408 0.11537356 0.11648665\n",
      " 0.11757957 0.11865782 0.11972671 0.12079114 0.12185562 0.12292396\n",
      " 0.12399909 0.12508319 0.12617756 0.12728302]\n"
     ]
    },
    {
     "name": "stdout",
     "output_type": "stream",
     "text": [
      "22 day output [[0.12839971]]\n",
      "23 day input [0.06361996 0.05455201 0.06292243 0.05488876 0.05950692 0.05924233\n",
      " 0.06405292 0.08192423 0.07398677 0.07420325 0.07304871 0.06898376\n",
      " 0.06167168 0.06535177 0.06381239 0.06111846 0.0594107  0.05943476\n",
      " 0.06316296 0.05017438 0.06008419 0.044546   0.04432952 0.04834636\n",
      " 0.05919423 0.06900782 0.06819002 0.06248948 0.06164762 0.07011425\n",
      " 0.06944077 0.06956103 0.07206254 0.06987372 0.06660253 0.06806975\n",
      " 0.06494287 0.05654841 0.05972339 0.06179194 0.06313891 0.06905592\n",
      " 0.07788334 0.07874925 0.07841251 0.07675286 0.08036079 0.08187613\n",
      " 0.07562237 0.0791341  0.0771377  0.07562237 0.09029465 0.09012628\n",
      " 0.09226699 0.08734817 0.0911365  0.09991581 0.09770295 0.10013229\n",
      " 0.11148527 0.10710764 0.10434155 0.1018641  0.09397474 0.09782321\n",
      " 0.08721587 0.09760673 0.10032471 0.09294047 0.09250752 0.09753458\n",
      " 0.0927721  0.08851473 0.09017438 0.10027661 0.11191822 0.0999381\n",
      " 0.1019454  0.1040121  0.10592814 0.10763891 0.10916522 0.11055127\n",
      " 0.11183918 0.11306009 0.11423408 0.11537356 0.11648665 0.11757957\n",
      " 0.11865782 0.11972671 0.12079114 0.12185562 0.12292396 0.12399909\n",
      " 0.12508319 0.12617756 0.12728302 0.12839971]\n",
      "23 day output [[0.12952745]]\n",
      "24 day input [0.05455201 0.06292243 0.05488876 0.05950692 0.05924233 0.06405292\n",
      " 0.08192423 0.07398677 0.07420325 0.07304871 0.06898376 0.06167168\n",
      " 0.06535177 0.06381239 0.06111846 0.0594107  0.05943476 0.06316296\n",
      " 0.05017438 0.06008419 0.044546   0.04432952 0.04834636 0.05919423\n",
      " 0.06900782 0.06819002 0.06248948 0.06164762 0.07011425 0.06944077\n",
      " 0.06956103 0.07206254 0.06987372 0.06660253 0.06806975 0.06494287\n",
      " 0.05654841 0.05972339 0.06179194 0.06313891 0.06905592 0.07788334\n",
      " 0.07874925 0.07841251 0.07675286 0.08036079 0.08187613 0.07562237\n",
      " 0.0791341  0.0771377  0.07562237 0.09029465 0.09012628 0.09226699\n",
      " 0.08734817 0.0911365  0.09991581 0.09770295 0.10013229 0.11148527\n",
      " 0.10710764 0.10434155 0.1018641  0.09397474 0.09782321 0.08721587\n",
      " 0.09760673 0.10032471 0.09294047 0.09250752 0.09753458 0.0927721\n",
      " 0.08851473 0.09017438 0.10027661 0.11191822 0.0999381  0.1019454\n",
      " 0.1040121  0.10592814 0.10763891 0.10916522 0.11055127 0.11183918\n",
      " 0.11306009 0.11423408 0.11537356 0.11648665 0.11757957 0.11865782\n",
      " 0.11972671 0.12079114 0.12185562 0.12292396 0.12399909 0.12508319\n",
      " 0.12617756 0.12728302 0.12839971 0.12952745]\n",
      "24 day output [[0.13066569]]\n",
      "25 day input [0.06292243 0.05488876 0.05950692 0.05924233 0.06405292 0.08192423\n",
      " 0.07398677 0.07420325 0.07304871 0.06898376 0.06167168 0.06535177\n",
      " 0.06381239 0.06111846 0.0594107  0.05943476 0.06316296 0.05017438\n",
      " 0.06008419 0.044546   0.04432952 0.04834636 0.05919423 0.06900782\n",
      " 0.06819002 0.06248948 0.06164762 0.07011425 0.06944077 0.06956103\n",
      " 0.07206254 0.06987372 0.06660253 0.06806975 0.06494287 0.05654841\n",
      " 0.05972339 0.06179194 0.06313891 0.06905592 0.07788334 0.07874925\n",
      " 0.07841251 0.07675286 0.08036079 0.08187613 0.07562237 0.0791341\n",
      " 0.0771377  0.07562237 0.09029465 0.09012628 0.09226699 0.08734817\n",
      " 0.0911365  0.09991581 0.09770295 0.10013229 0.11148527 0.10710764\n",
      " 0.10434155 0.1018641  0.09397474 0.09782321 0.08721587 0.09760673\n",
      " 0.10032471 0.09294047 0.09250752 0.09753458 0.0927721  0.08851473\n",
      " 0.09017438 0.10027661 0.11191822 0.0999381  0.1019454  0.1040121\n",
      " 0.10592814 0.10763891 0.10916522 0.11055127 0.11183918 0.11306009\n",
      " 0.11423408 0.11537356 0.11648665 0.11757957 0.11865782 0.11972671\n",
      " 0.12079114 0.12185562 0.12292396 0.12399909 0.12508319 0.12617756\n",
      " 0.12728302 0.12839971 0.12952745 0.13066569]\n",
      "25 day output [[0.13181376]]\n",
      "26 day input [0.05488876 0.05950692 0.05924233 0.06405292 0.08192423 0.07398677\n",
      " 0.07420325 0.07304871 0.06898376 0.06167168 0.06535177 0.06381239\n",
      " 0.06111846 0.0594107  0.05943476 0.06316296 0.05017438 0.06008419\n",
      " 0.044546   0.04432952 0.04834636 0.05919423 0.06900782 0.06819002\n",
      " 0.06248948 0.06164762 0.07011425 0.06944077 0.06956103 0.07206254\n",
      " 0.06987372 0.06660253 0.06806975 0.06494287 0.05654841 0.05972339\n",
      " 0.06179194 0.06313891 0.06905592 0.07788334 0.07874925 0.07841251\n",
      " 0.07675286 0.08036079 0.08187613 0.07562237 0.0791341  0.0771377\n",
      " 0.07562237 0.09029465 0.09012628 0.09226699 0.08734817 0.0911365\n",
      " 0.09991581 0.09770295 0.10013229 0.11148527 0.10710764 0.10434155\n",
      " 0.1018641  0.09397474 0.09782321 0.08721587 0.09760673 0.10032471\n",
      " 0.09294047 0.09250752 0.09753458 0.0927721  0.08851473 0.09017438\n",
      " 0.10027661 0.11191822 0.0999381  0.1019454  0.1040121  0.10592814\n",
      " 0.10763891 0.10916522 0.11055127 0.11183918 0.11306009 0.11423408\n",
      " 0.11537356 0.11648665 0.11757957 0.11865782 0.11972671 0.12079114\n",
      " 0.12185562 0.12292396 0.12399909 0.12508319 0.12617756 0.12728302\n",
      " 0.12839971 0.12952745 0.13066569 0.13181376]\n",
      "26 day output [[0.1329709]]\n",
      "27 day input [0.05950692 0.05924233 0.06405292 0.08192423 0.07398677 0.07420325\n",
      " 0.07304871 0.06898376 0.06167168 0.06535177 0.06381239 0.06111846\n",
      " 0.0594107  0.05943476 0.06316296 0.05017438 0.06008419 0.044546\n",
      " 0.04432952 0.04834636 0.05919423 0.06900782 0.06819002 0.06248948\n",
      " 0.06164762 0.07011425 0.06944077 0.06956103 0.07206254 0.06987372\n",
      " 0.06660253 0.06806975 0.06494287 0.05654841 0.05972339 0.06179194\n",
      " 0.06313891 0.06905592 0.07788334 0.07874925 0.07841251 0.07675286\n",
      " 0.08036079 0.08187613 0.07562237 0.0791341  0.0771377  0.07562237\n",
      " 0.09029465 0.09012628 0.09226699 0.08734817 0.0911365  0.09991581\n",
      " 0.09770295 0.10013229 0.11148527 0.10710764 0.10434155 0.1018641\n",
      " 0.09397474 0.09782321 0.08721587 0.09760673 0.10032471 0.09294047\n",
      " 0.09250752 0.09753458 0.0927721  0.08851473 0.09017438 0.10027661\n",
      " 0.11191822 0.0999381  0.1019454  0.1040121  0.10592814 0.10763891\n",
      " 0.10916522 0.11055127 0.11183918 0.11306009 0.11423408 0.11537356\n",
      " 0.11648665 0.11757957 0.11865782 0.11972671 0.12079114 0.12185562\n",
      " 0.12292396 0.12399909 0.12508319 0.12617756 0.12728302 0.12839971\n",
      " 0.12952745 0.13066569 0.13181376 0.1329709 ]\n",
      "27 day output [[0.13413629]]\n",
      "28 day input [0.05924233 0.06405292 0.08192423 0.07398677 0.07420325 0.07304871\n",
      " 0.06898376 0.06167168 0.06535177 0.06381239 0.06111846 0.0594107\n",
      " 0.05943476 0.06316296 0.05017438 0.06008419 0.044546   0.04432952\n",
      " 0.04834636 0.05919423 0.06900782 0.06819002 0.06248948 0.06164762\n",
      " 0.07011425 0.06944077 0.06956103 0.07206254 0.06987372 0.06660253\n",
      " 0.06806975 0.06494287 0.05654841 0.05972339 0.06179194 0.06313891\n",
      " 0.06905592 0.07788334 0.07874925 0.07841251 0.07675286 0.08036079\n",
      " 0.08187613 0.07562237 0.0791341  0.0771377  0.07562237 0.09029465\n",
      " 0.09012628 0.09226699 0.08734817 0.0911365  0.09991581 0.09770295\n",
      " 0.10013229 0.11148527 0.10710764 0.10434155 0.1018641  0.09397474\n",
      " 0.09782321 0.08721587 0.09760673 0.10032471 0.09294047 0.09250752\n",
      " 0.09753458 0.0927721  0.08851473 0.09017438 0.10027661 0.11191822\n",
      " 0.0999381  0.1019454  0.1040121  0.10592814 0.10763891 0.10916522\n",
      " 0.11055127 0.11183918 0.11306009 0.11423408 0.11537356 0.11648665\n",
      " 0.11757957 0.11865782 0.11972671 0.12079114 0.12185562 0.12292396\n",
      " 0.12399909 0.12508319 0.12617756 0.12728302 0.12839971 0.12952745\n",
      " 0.13066569 0.13181376 0.1329709  0.13413629]\n",
      "28 day output [[0.13530919]]\n",
      "29 day input [0.06405292 0.08192423 0.07398677 0.07420325 0.07304871 0.06898376\n",
      " 0.06167168 0.06535177 0.06381239 0.06111846 0.0594107  0.05943476\n",
      " 0.06316296 0.05017438 0.06008419 0.044546   0.04432952 0.04834636\n",
      " 0.05919423 0.06900782 0.06819002 0.06248948 0.06164762 0.07011425\n",
      " 0.06944077 0.06956103 0.07206254 0.06987372 0.06660253 0.06806975\n",
      " 0.06494287 0.05654841 0.05972339 0.06179194 0.06313891 0.06905592\n",
      " 0.07788334 0.07874925 0.07841251 0.07675286 0.08036079 0.08187613\n",
      " 0.07562237 0.0791341  0.0771377  0.07562237 0.09029465 0.09012628\n",
      " 0.09226699 0.08734817 0.0911365  0.09991581 0.09770295 0.10013229\n",
      " 0.11148527 0.10710764 0.10434155 0.1018641  0.09397474 0.09782321\n",
      " 0.08721587 0.09760673 0.10032471 0.09294047 0.09250752 0.09753458\n",
      " 0.0927721  0.08851473 0.09017438 0.10027661 0.11191822 0.0999381\n",
      " 0.1019454  0.1040121  0.10592814 0.10763891 0.10916522 0.11055127\n",
      " 0.11183918 0.11306009 0.11423408 0.11537356 0.11648665 0.11757957\n",
      " 0.11865782 0.11972671 0.12079114 0.12185562 0.12292396 0.12399909\n",
      " 0.12508319 0.12617756 0.12728302 0.12839971 0.12952745 0.13066569\n",
      " 0.13181376 0.1329709  0.13413629 0.13530919]\n",
      "29 day output [[0.13648885]]\n",
      "[[0.09993810206651688], [0.10194540023803711], [0.10401210188865662], [0.10592813789844513], [0.10763891041278839], [0.10916522145271301], [0.11055126786231995], [0.1118391826748848], [0.11306009441614151], [0.1142340824007988], [0.11537355929613113], [0.11648664623498917], [0.11757957190275192], [0.11865781992673874], [0.11972671002149582], [0.12079113721847534], [0.12185561656951904], [0.12292396277189255], [0.12399908900260925], [0.12508319318294525], [0.1261775642633438], [0.1272830218076706], [0.12839971482753754], [0.12952744960784912], [0.13066568970680237], [0.13181376457214355], [0.1329708993434906], [0.13413628935813904], [0.13530918955802917], [0.13648885488510132]]\n"
     ]
    }
   ],
   "source": [
    "\n",
    "# demonstrate prediction for next 10 days\n",
    "from numpy import array\n",
    "\n",
    "lst_output=[]\n",
    "n_steps=100\n",
    "i=0\n",
    "while(i<30):\n",
    "    \n",
    "    if(len(temp_input)>100):\n",
    "        #print(temp_input)\n",
    "        x_input=np.array(temp_input[1:])\n",
    "        print(\"{} day input {}\".format(i,x_input))\n",
    "        x_input=x_input.reshape(1,-1)\n",
    "        x_input = x_input.reshape((1, n_steps, 1))\n",
    "        #print(x_input)\n",
    "        yhat = model.predict(x_input, verbose=0)\n",
    "        print(\"{} day output {}\".format(i,yhat))\n",
    "        temp_input.extend(yhat[0].tolist())\n",
    "        temp_input=temp_input[1:]\n",
    "        #print(temp_input)\n",
    "        lst_output.extend(yhat.tolist())\n",
    "        i=i+1\n",
    "    else:\n",
    "        x_input = x_input.reshape((1, n_steps,1))\n",
    "        yhat = model.predict(x_input, verbose=0)\n",
    "        print(yhat[0])\n",
    "        temp_input.extend(yhat[0].tolist())\n",
    "        print(len(temp_input))\n",
    "        lst_output.extend(yhat.tolist())\n",
    "        i=i+1\n",
    "    \n",
    "\n",
    "print(lst_output)"
   ]
  },
  {
   "cell_type": "code",
   "execution_count": 54,
   "metadata": {},
   "outputs": [],
   "source": [
    "day_new=np.arange(1,101)\n",
    "day_pred=np.arange(101,131)"
   ]
  },
  {
   "cell_type": "code",
   "execution_count": 55,
   "metadata": {},
   "outputs": [
    {
     "data": {
      "text/plain": [
       "[<matplotlib.lines.Line2D at 0x25cb16511f0>]"
      ]
     },
     "execution_count": 55,
     "metadata": {},
     "output_type": "execute_result"
    },
    {
     "data": {
      "image/png": "[encoded data removed]",
      "text/plain": [
       "<Figure size 432x288 with 1 Axes>"
      ]
     },
     "metadata": {
      "needs_background": "light"
     },
     "output_type": "display_data"
    }
   ],
   "source": [
    "import matplotlib.pyplot as plt\n",
    "plt.plot(day_new,scaler.inverse_transform(df1[1158:]))\n",
    "plt.plot(day_pred,scaler.inverse_transform(lst_output))"
   ]
  },
  {
   "cell_type": "code",
   "execution_count": 56,
   "metadata": {},
   "outputs": [
    {
     "data": {
      "text/plain": [
       "[<matplotlib.lines.Line2D at 0x25cb13a1430>]"
      ]
     },
     "execution_count": 56,
     "metadata": {},
     "output_type": "execute_result"
    },
    {
     "data": {
      "image/png": "[encoded data removed]",
      "text/plain": [
       "<Figure size 432x288 with 1 Axes>"
      ]
     },
     "metadata": {
      "needs_background": "light"
     },
     "output_type": "display_data"
    }
   ],
   "source": [
    "df3=df1.tolist()\n",
    "df3.extend(lst_output)\n",
    "plt.plot(df3[1200:])"
   ]
  },
  {
   "cell_type": "code",
   "execution_count": 57,
   "metadata": {},
   "outputs": [
    {
     "data": {
      "text/plain": [
       "[<matplotlib.lines.Line2D at 0x25cada016a0>]"
      ]
     },
     "execution_count": 57,
     "metadata": {},
     "output_type": "execute_result"
    },
    {
     "data": {
      "image/png": "[encoded data removed]",
      "text/plain": [
       "<Figure size 432x288 with 1 Axes>"
      ]
     },
     "metadata": {
      "needs_background": "light"
     },
     "output_type": "display_data"
    }
   ],
   "source": [
    "df3=scaler.inverse_transform(df3).tolist()\n",
    "\n",
    "plt.plot(df3)"
   ]
  },
  {
   "cell_type": "code",
   "execution_count": null,
   "metadata": {},
   "outputs": [],
   "source": []
  }
 ],
 "metadata": {
  "kernelspec": {
   "display_name": "Python 3",
   "language": "python",
   "name": "python3"
  },
  "language_info": {
   "codemirror_mode": {
    "name": "ipython",
    "version": 3
   },
   "file_extension": ".py",
   "mimetype": "text/x-python",
   "name": "python",
   "nbconvert_exporter": "python",
   "pygments_lexer": "ipython3",
   "version": "3.8.3"
  }
 },
 "nbformat": 4,
 "nbformat_minor": 4
}
